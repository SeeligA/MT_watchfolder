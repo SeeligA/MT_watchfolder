{
 "cells": [
  {
   "cell_type": "code",
   "execution_count": 99,
   "metadata": {},
   "outputs": [],
   "source": [
    "import time\n",
    "from watchdog.observers import Observer\n",
    "from watchdog.events import PatternMatchingEventHandler\n",
    "from collections import defaultdict"
   ]
  },
  {
   "cell_type": "code",
   "execution_count": null,
   "metadata": {},
   "outputs": [],
   "source": [
    "class Watcher:\n",
    "    DIRECTORY_TO_WATCH = \"07_Lief\"\n",
    "\n",
    "\n",
    "    def __init__(self):\n",
    "        self.observer = Observer()\n",
    "\n",
    "    def run(self):\n",
    "        patt = ['*.sdlrpx', '*.sdlxliff', '*.wsxz']\n",
    "        event_handler = Processor(patterns=patt) ## This will handle all events from watchdog\n",
    "        self.observer.schedule(event_handler, self.DIRECTORY_TO_WATCH, recursive=True)\n",
    "        self.observer.start()\n",
    "        try:\n",
    "            while True:\n",
    "                time.sleep(5)\n",
    "        except:\n",
    "            self.observer.stop()\n",
    "            print(\"Error\")\n",
    "\n",
    "            self.observer.join()\n",
    "\n",
    "\n",
    "class Processor(PatternMatchingEventHandler):\n",
    "    @staticmethod\n",
    "    def on_created(event):\n",
    "        \n",
    "        mt_providers = Processor.check_for_mt(event.src_path)\n",
    "        if len(mt_providers) > 0:\n",
    "            Processor.print_warning(os.path.dirname(event.src_path), mt_providers)\n",
    "\n",
    "    @classmethod\n",
    "    def check_for_mt(cls, file_path):\n",
    "        path = os.path.join(os.path.dirname(os.path.normpath(file_path)), '..', '02_vor')\n",
    "        files = glob.iglob(path+'\\**\\*.sdlxliff', recursive=True)\n",
    "        \n",
    "        providers = ['DeepL Translator provider using DeepL Translator ']\n",
    "        string = 'origin-system=\"'\n",
    "        mt_providers = defaultdict(dict)\n",
    "        \n",
    "        for file in files:\n",
    "            for provider in providers:\n",
    "                if string+provider in open(file, encoding='utf-8').read():\n",
    "                    mt_providers[file][provider] = True\n",
    "        \n",
    "        return mt_providers\n",
    "    \n",
    "    def print_warning(file_path, mt_providers):\n",
    "        \n",
    "        try:\n",
    "            with open(os.path.join(file_path, \"MT WARNING.txt\"), \"w+\") as w:\n",
    "                \n",
    "                for keys, values in mt_providers.items():\n",
    "                    w.write(str('MT found in file {}'.format(keys)))\n",
    "                    \n",
    "                    for provider in values.keys():\n",
    "                        w.write(str('\\nProvider: {}'.format(provider)))\n",
    "        \n",
    "        except KeyboardInterrupt:\n",
    "                raise\n",
    "\n",
    "if __name__ == '__main__':\n",
    "    w = Watcher()\n",
    "    w.run()"
   ]
  }
 ],
 "metadata": {
  "kernelspec": {
   "display_name": "watchfolder",
   "language": "python",
   "name": "watchfolder"
  },
  "language_info": {
   "codemirror_mode": {
    "name": "ipython",
    "version": 3
   },
   "file_extension": ".py",
   "mimetype": "text/x-python",
   "name": "python",
   "nbconvert_exporter": "python",
   "pygments_lexer": "ipython3",
   "version": "3.7.2"
  }
 },
 "nbformat": 4,
 "nbformat_minor": 2
}
